{
 "cells": [
  {
   "cell_type": "code",
   "execution_count": null,
   "metadata": {},
   "outputs": [],
   "source": [
    "%matplotlib inline\n",
    "\n",
    "import matplotlib.pyplot as plt\n",
    "import matplotlib as mpl\n",
    "import numpy as np\n",
    "import pyemma\n",
    "import glob\n",
    "import pandas as pd\n",
    "import seaborn as sns\n",
    "import os\n",
    "\n",
    "import nglview\n",
    "import mdtraj\n",
    "from mdtraj import shrake_rupley, compute_rg\n",
    "from threading import Timer\n",
    "from nglview.player import TrajectoryPlayer\n",
    "\n",
    "import MDAnalysis as mda\n",
    "from MDAnalysis.analysis import diffusionmap,align, rms"
   ]
  },
  {
   "cell_type": "code",
   "execution_count": null,
   "metadata": {},
   "outputs": [],
   "source": [
    "fig_path = r'./figures/estimation/'\n",
    "if not os.path.exists(fig_path): os.mkdir(fig_path)"
   ]
  },
  {
   "cell_type": "code",
   "execution_count": null,
   "metadata": {},
   "outputs": [],
   "source": [
    "# Get topology and trajectory files. \n",
    "# Split into training set and test set\n",
    "\n",
    "top_path = './data/peptide.gro'\n",
    "trajs_path = glob.glob('./data/md_1us_*_noPBC.xtc')\n",
    "train_files = trajs_path[:-1]\n",
    "test_file = trajs_path[-1]\n",
    "print('Training files:', *train_files, '\\nTest files:', test_file)\n",
    "assert set(train_files) & set(test_file) == set()"
   ]
  },
  {
   "cell_type": "code",
   "execution_count": null,
   "metadata": {},
   "outputs": [],
   "source": [
    "widget = nglview.show_mdtraj(mdtraj.load(top_path))\n",
    "p = TrajectoryPlayer(widget)\n",
    "widget.add_ball_and_stick()\n",
    "p.spin = True\n",
    "def stop_spin():\n",
    "    p.spin = False\n",
    "    widget.close()\n",
    "Timer(30, stop_spin).start()\n",
    "widget"
   ]
  },
  {
   "cell_type": "code",
   "execution_count": null,
   "metadata": {},
   "outputs": [],
   "source": [
    "# Plot Ramachandran and free energy \n",
    "\n",
    "feat_torsion = pyemma.coordinates.featurizer(top_path)\n",
    "feat_torsion.add_backbone_torsions(periodic=False)\n",
    "reader_torsion = pyemma.coordinates.source(trajs_path, features = feat_torsion)\n",
    "data_plot = reader_torsion.get_output(stride = 3)\n",
    "\n",
    "phi = np.concatenate(data_plot[0][:,::2])\n",
    "psi = np.concatenate(data_plot[0][:,1::2])\n",
    "\n",
    "fig, axes = plt.subplots(1, 2, figsize=(12, 5), sharex=True, sharey=True)\n",
    "pyemma.plots.plot_density(phi, psi, ax=axes[0])\n",
    "pyemma.plots.plot_free_energy(phi, psi, ax=axes[1], legacy=False)\n",
    "for ax in axes.flat:\n",
    "    ax.set_xlabel('$\\Phi$')\n",
    "    ax.set_aspect('equal')\n",
    "axes[0].set_ylabel('$\\Psi$')\n",
    "fig.tight_layout()\n",
    "plt.savefig(fname = os.path.join(fig_path,'Ramachandran.png'))"
   ]
  },
  {
   "cell_type": "markdown",
   "metadata": {},
   "source": [
    "***\n",
    "### Feature selection"
   ]
  },
  {
   "cell_type": "code",
   "execution_count": null,
   "metadata": {},
   "outputs": [],
   "source": [
    "stride = 10"
   ]
  },
  {
   "cell_type": "code",
   "execution_count": null,
   "metadata": {},
   "outputs": [],
   "source": [
    "# Select features by comparing VAMP scores at different lag times \n",
    "feat = pyemma.coordinates.featurizer(top_path)\n",
    "\n",
    "# backbone torsions\n",
    "feat.active_features = []\n",
    "feat.add_backbone_torsions(periodic=False)\n",
    "data_backbone = pyemma.coordinates.load(train_files, features=feat, stride = stride)\n",
    "data_backbone_test = pyemma.coordinates.load(test_file, features=feat, stride = stride)\n",
    "print('Backbone torsions dimension: ',feat.dimension())\n",
    "\n",
    "# ca distances\n",
    "feat.active_features = []\n",
    "feat.add_distances_ca(periodic=False)\n",
    "data_ca = pyemma.coordinates.load(train_files, features=feat, stride = stride)\n",
    "data_ca_test = pyemma.coordinates.load(test_file, features=feat, stride = stride)\n",
    "print('Ca distances dimension: ',feat.dimension())\n",
    "\n",
    "# sidechain torsions\n",
    "feat.active_features = []\n",
    "feat.add_sidechain_torsions(periodic=False)\n",
    "data_sidechain = pyemma.coordinates.load(train_files, features=feat, stride = stride)\n",
    "data_sidechain_test = pyemma.coordinates.load(test_file, features=feat, stride = stride)\n",
    "print('Sidechain torsions dimension:',feat.dimension())\n",
    "\n",
    "# backbone torsions + ca distances\n",
    "feat.active_features = []\n",
    "feat.add_backbone_torsions(periodic=False)\n",
    "feat.add_distances_ca(periodic=False)\n",
    "data_backbone_ca = pyemma.coordinates.load(train_files, features=feat, stride = stride)\n",
    "data_backbone_ca_test = pyemma.coordinates.load(test_file, features=feat, stride = stride)\n",
    "print('Backbone torsions + Ca distances dimension: ',feat.dimension())\n",
    "\n",
    "# Ca distances + sidechain torsions\n",
    "feat.active_features = []\n",
    "feat.add_distances_ca(periodic=False)\n",
    "feat.add_sidechain_torsions(periodic=False)\n",
    "data_ca_sidechain = pyemma.coordinates.load(train_files, features=feat, stride = stride)\n",
    "data_ca_sidechain_test = pyemma.coordinates.load(test_file, features=feat, stride = stride)\n",
    "print('Ca distances + sidechain torsions dimension:',feat.dimension())\n",
    "\n",
    "# backbone torsions + sidechain torsions\n",
    "feat.active_features = []\n",
    "feat.add_backbone_torsions(periodic=False)\n",
    "feat.add_sidechain_torsions(periodic=False)\n",
    "data_backbone_sidechain = pyemma.coordinates.load(train_files, features=feat, stride = stride)\n",
    "data_backbone_sidechain_test = pyemma.coordinates.load(test_file, features=feat, stride = stride)\n",
    "print('Backbone torsions + sidechain torsions dimension:',feat.dimension())\n",
    "\n",
    "# backbone torsions + ca distances + sidechain torsions\n",
    "feat.active_features = []\n",
    "feat.add_backbone_torsions(periodic=False)\n",
    "feat.add_distances_ca(periodic=False)\n",
    "feat.add_sidechain_torsions(periodic=False)\n",
    "data_backbone_ca_sidechain = pyemma.coordinates.load(train_files, features=feat, stride = stride)\n",
    "data_backbone_ca_sidechain_test = pyemma.coordinates.load(test_file, features=feat, stride = stride)\n",
    "print('Backbone torsions + Ca distances + sidechain torsions dimension:',feat.dimension())\n",
    "\n",
    "data_list = [data_backbone, data_ca, data_sidechain, data_backbone_ca, data_ca_sidechain, data_backbone_sidechain, data_backbone_ca_sidechain]\n",
    "test_data_list = [data_backbone_test, data_ca_test, data_sidechain_test, data_backbone_ca_test, data_ca_sidechain_test, data_backbone_sidechain_test, data_backbone_ca_sidechain_test]\n",
    "label_list = ['BackBone', 'Ca_Dists', 'SideChain','BB+Ca', 'Ca+SC', 'BB+SC', 'BB+CA+SC']"
   ]
  },
  {
   "cell_type": "code",
   "execution_count": null,
   "metadata": {},
   "outputs": [],
   "source": [
    "def plot_for_lag(ax, lag, data_list, test_data_list, label_list, dim=5):\n",
    "    vamps = []\n",
    "    test_data = []\n",
    "    labels = []\n",
    "    for i, data in enumerate(data_list):\n",
    "        if data[0].shape[1] >= dim: \n",
    "            vamps.append(pyemma.coordinates.vamp(data, lag = lag, dim = dim))\n",
    "            test_data.append(test_data_list[i])\n",
    "            labels.append(label_list[i])\n",
    "    for i, (v, test_data) in enumerate(zip(vamps, test_data)):\n",
    "        if dim > v.dimension(): continue\n",
    "        s = v.score(test_data = test_data)\n",
    "        ax.bar(i, s)\n",
    "    ax.set_xticks(range(len(vamps)))\n",
    "    ax.set_xticklabels(labels, rotation = 60)"
   ]
  },
  {
   "cell_type": "code",
   "execution_count": null,
   "metadata": {
    "scrolled": true
   },
   "outputs": [],
   "source": [
    "# Compute VAMP scores at different lag times and dimensions\n",
    "# This is to ensure that our selected feature is robust as a function of lag time\n",
    "# and to select features by comparing VAMP scores \n",
    "\n",
    "dimensions = [5, 10, 40, 70]\n",
    "lagtimes = [5, 10, 25, 50]\n",
    "\n",
    "fig, axes = plt.subplots(len(dimensions), 4, figsize=(5*len(lagtimes), 5*len(dimensions)), sharey = True)\n",
    "for i, dim in enumerate(dimensions):\n",
    "    for j, lag in enumerate(lagtimes):\n",
    "        plot_for_lag(axes[i,j], lag, data_list, test_data_list, label_list, dim = dim)\n",
    "for ax, lag in zip(axes[0], lagtimes):\n",
    "    ax.set_title('VAMP2 at lag = {}ps'.format(lag*40), size = 'large')\n",
    "for ax, dim in zip(axes[:,0], dimensions):\n",
    "    ax.set_ylabel('VAMP dimension = {}'.format(dim), rotation = 90, size = 'large')\n",
    "fig.tight_layout()\n",
    "plt.savefig(fname = os.path.join(fig_path,'VAMPs.png'))"
   ]
  },
  {
   "cell_type": "markdown",
   "metadata": {},
   "source": [
    "***\n",
    "### Dimensionality reduction and discretisation"
   ]
  },
  {
   "cell_type": "code",
   "execution_count": null,
   "metadata": {},
   "outputs": [],
   "source": [
    "lag_tica = 25\n",
    "var_cutoff = 0.95\n",
    "stride_tica = 3"
   ]
  },
  {
   "cell_type": "code",
   "execution_count": null,
   "metadata": {},
   "outputs": [],
   "source": [
    "# Number of orginal features = sidechain torsions (18) + ca distances (78) = 96\n",
    "# Concatenate trajectories\n",
    "# Perform TICA and reduce the feature space dimensions to (60*length)\n",
    "\n",
    "feat = pyemma.coordinates.featurizer(top_path)\n",
    "feat.active_features = []\n",
    "feat.add_sidechain_torsions(periodic = False)\n",
    "feat.add_distances_ca(periodic = False)\n",
    "reader = pyemma.coordinates.source(trajs_path, features = feat)\n",
    "\n",
    "tica = pyemma.coordinates.tica(reader, lag=lag_tica, var_cutoff=var_cutoff, stride=stride_tica)\n",
    "tica_output = tica.get_output()\n",
    "tica_concatenated = np.concatenate(tica_output)\n",
    "\n",
    "print('TICA subspace shape', tica_concatenated.shape)"
   ]
  },
  {
   "cell_type": "markdown",
   "metadata": {},
   "source": [
    "***\n",
    "### Validation"
   ]
  },
  {
   "cell_type": "code",
   "execution_count": null,
   "metadata": {},
   "outputs": [],
   "source": [
    "n_cluster_test = [150, 200, 250, 300, 400, 500]\n",
    "max_iter = 300\n",
    "stride_cluster = 3"
   ]
  },
  {
   "cell_type": "code",
   "execution_count": null,
   "metadata": {},
   "outputs": [],
   "source": [
    "# ITS convergence test for different numbers of cluster centers\n",
    "\n",
    "fig, axes = plt.subplots(len(n_cluster_test), 2, figsize=(12, len(n_cluster_test)*6))\n",
    "for i, k in enumerate(n_cluster_test):\n",
    "    cluster_test = pyemma.coordinates.cluster_kmeans(tica, k=k, max_iter=max_iter, stride=stride_cluster)\n",
    "    pyemma.plots.plot_density(*tica_concatenated[:,:2].T, ax=axes[i, 0], cbar=False, alpha=0.1)\n",
    "    axes[i, 0].scatter(*cluster_test.clustercenters[:, :2].T, s=5, c='C1')\n",
    "    axes[i, 0].set_xlabel('IC1')\n",
    "    axes[i, 0].set_ylabel('IC2')\n",
    "    axes[i, 0].set_title('k = {} centers'.format(k))\n",
    "    \n",
    "    pyemma.plots.plot_implied_timescales(pyemma.msm.its(cluster_test.dtrajs, \n",
    "                                                        nits=5, \n",
    "                                                        lags=[1, 2, 5, 10, 20, 50, 100], \n",
    "                                                        errors='bayes'), \n",
    "                                         units='ns',\n",
    "                                         dt=0.04,\n",
    "                                         ax=axes[i, 1])\n",
    "    axes[i, 1].set_title('k = {} centers'.format(k))\n",
    "\n",
    "fig.tight_layout()\n",
    "plt.savefig(fname = os.path.join(fig_path,'ITS_compare.png'))"
   ]
  },
  {
   "cell_type": "code",
   "execution_count": null,
   "metadata": {},
   "outputs": [],
   "source": [
    "n_cluster = 300\n",
    "max_iter = 300\n",
    "stride_cluster = 3\n",
    "lag_markov = 25\n",
    "dt_traj = '40 ps'\n",
    "n_metastate = 2"
   ]
  },
  {
   "cell_type": "code",
   "execution_count": null,
   "metadata": {},
   "outputs": [],
   "source": [
    "# CK test\n",
    "\n",
    "cluster = pyemma.coordinates.cluster_kmeans(tica, k=k, max_iter=max_iter, stride=stride_cluster)\n",
    "bayesian_msm = pyemma.msm.bayesian_markov_model(cluster.dtrajs, lag=lag_markov, dt_traj=dt_traj, conf=0.95)\n",
    "pyemma.plots.plot_cktest(bayesian_msm.cktest(n_metastate), figsize = (8,8))\n",
    "plt.savefig(fname = os.path.join(fig_path,f'CK_{n_metastate}_state.png'))"
   ]
  },
  {
   "cell_type": "code",
   "execution_count": null,
   "metadata": {},
   "outputs": [],
   "source": []
  }
 ],
 "metadata": {
  "kernelspec": {
   "display_name": "Python 3 (ipykernel)",
   "language": "python",
   "name": "python3"
  },
  "language_info": {
   "codemirror_mode": {
    "name": "ipython",
    "version": 3
   },
   "file_extension": ".py",
   "mimetype": "text/x-python",
   "name": "python",
   "nbconvert_exporter": "python",
   "pygments_lexer": "ipython3",
   "version": "3.9.13"
  }
 },
 "nbformat": 4,
 "nbformat_minor": 4
}

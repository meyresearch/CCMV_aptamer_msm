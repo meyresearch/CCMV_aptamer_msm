{
 "cells": [
  {
   "cell_type": "code",
   "execution_count": null,
   "id": "dbc9ac49",
   "metadata": {},
   "outputs": [],
   "source": [
    "%matplotlib inline\n",
    "\n",
    "import matplotlib.pyplot as plt\n",
    "from matplotlib import colors\n",
    "import matplotlib as mpl\n",
    "import numpy as np\n",
    "import pyemma\n",
    "import glob\n",
    "import pandas as pd\n",
    "import seaborn as sns\n",
    "import os\n",
    "\n",
    "import nglview\n",
    "import mdtraj \n",
    "from mdtraj import shrake_rupley, compute_rg\n",
    "from threading import Timer\n",
    "from nglview.player import TrajectoryPlayer\n",
    "\n",
    "import MDAnalysis as mda\n",
    "from MDAnalysis.analysis import diffusionmap,align, rms"
   ]
  },
  {
   "cell_type": "code",
   "execution_count": null,
   "id": "ba7bf593",
   "metadata": {},
   "outputs": [],
   "source": [
    "mpl.rcParams['savefig.bbox'] = 'tight'\n",
    "sns.set_style(\"white\")\n",
    "sns.set_style({'font.family':'sans-serif', 'font.serif':'Arial'})"
   ]
  },
  {
   "cell_type": "code",
   "execution_count": null,
   "id": "cc270148",
   "metadata": {},
   "outputs": [],
   "source": [
    "fig_path = r'./figures/analysis/'\n",
    "if not os.path.exists(fig_path): os.mkdir(fig_path)"
   ]
  },
  {
   "cell_type": "code",
   "execution_count": null,
   "id": "6822aeb9",
   "metadata": {},
   "outputs": [],
   "source": [
    "top_path = './data/peptide.gro'\n",
    "trajs_path = glob.glob('./data/md_1us_*_noPBC.xtc')\n",
    "\n",
    "# Test structures\n",
    "af_path = r'./data/alphafold2.xtc'\n",
    "npt_path = r'./data/npt.xtc' \n",
    "\n",
    "model_path = os.path.join('models',f'{len(trajs_path)}us.pyemma')"
   ]
  },
  {
   "cell_type": "markdown",
   "id": "94c5353f",
   "metadata": {},
   "source": [
    "***\n",
    "### Prepare MSM using hyperparamters determined by msm_estimation.ipynb"
   ]
  },
  {
   "cell_type": "code",
   "execution_count": null,
   "id": "756c668e",
   "metadata": {},
   "outputs": [],
   "source": [
    "lag_tica = 25\n",
    "var_cutoff = 0.95\n",
    "stride_tica = 3\n",
    "n_cluster = 300\n",
    "max_iter = 300\n",
    "stride_cluster = 5\n",
    "lag_markov = 25\n",
    "dt_traj = '40 ps'\n",
    "n_metastate = 2"
   ]
  },
  {
   "cell_type": "code",
   "execution_count": null,
   "id": "00beba34",
   "metadata": {},
   "outputs": [],
   "source": [
    "trajs_path = trajs_path[:4]"
   ]
  },
  {
   "cell_type": "code",
   "execution_count": null,
   "id": "99225ee6",
   "metadata": {},
   "outputs": [],
   "source": [
    "feat = pyemma.coordinates.featurizer(top_path)\n",
    "feat.active_features = []\n",
    "feat.add_sidechain_torsions(periodic = False)\n",
    "feat.add_distances_ca(periodic = False)\n",
    "reader = pyemma.coordinates.source(trajs_path, features = feat)\n",
    "\n",
    "tica = pyemma.coordinates.tica(reader, lag=lag_tica, var_cutoff=var_cutoff, stride=stride_tica)\n",
    "tica.save(model_path, model_name = 'tica', overwrite = True)\n",
    "tica_concatenated = np.concatenate(tica.get_output())\n",
    "\n",
    "cluster = pyemma.coordinates.cluster_kmeans(tica, k=n_cluster, max_iter=max_iter, stride=stride_cluster)\n",
    "cluster.save(model_path, model_name = 'kmeans', overwrite = True)\n",
    "cluster_dtrajs = cluster.dtrajs\n",
    "dtrajs_concatenated = np.concatenate(cluster_dtrajs)\n",
    "\n",
    "msm = pyemma.msm.estimate_markov_model(cluster.dtrajs, lag=lag_markov, dt_traj=dt_traj)\n",
    "msm.save(model_path, model_name = 'msm', overwrite = True)\n",
    "\n",
    "bayesian_msm = pyemma.msm.bayesian_markov_model(cluster.dtrajs, lag=lag_markov, dt_traj=dt_traj, conf=0.95)\n",
    "bayesian_msm.save(model_path, model_name = 'bayesian_msm', overwrite = True)"
   ]
  },
  {
   "cell_type": "code",
   "execution_count": null,
   "id": "dc0c16a8",
   "metadata": {},
   "outputs": [],
   "source": [
    "# Check state disconnectivity --- only the largest set of reversibly connected states were used in MSM estimation\n",
    "\n",
    "print('Fraction of states used = {:f}'.format(msm.active_state_fraction))\n",
    "print('Fraction of counts used = {:f}'.format(msm.active_count_fraction))\n",
    "print('Inactive states excluded from estimation: ', set(range(cluster.clustercenters.shape[0]))-set(msm.active_set))\n",
    "\n",
    "print(f'TICA space dimension: {tica_concatenated.shape}')\n",
    "print(f'Microstate assignment: {dtrajs_concatenated.shape}')\n",
    "print(f'Cluster center dimension: {cluster.clustercenters.shape}')\n",
    "print(f'Right eigenvectors dimension: {msm.eigenvectors_right().shape}')"
   ]
  },
  {
   "cell_type": "code",
   "execution_count": null,
   "id": "8ea4f26f",
   "metadata": {},
   "outputs": [],
   "source": [
    "# Compute the stationary distribution of metastable states\n",
    "\n",
    "nstates = 2\n",
    "msm.pcca(nstates)\n",
    "\n",
    "print('state\\tπ\\t\\tG/kT\\t\\tNo.')\n",
    "for i, s in enumerate(msm.metastable_sets):\n",
    "    p = msm.pi[s].sum()\n",
    "    print('{}\\t{:f}\\t{:f}\\t{}'.format(i + 1, p, -np.log(p), s.shape[0]))"
   ]
  },
  {
   "cell_type": "code",
   "execution_count": null,
   "id": "e7679e15",
   "metadata": {},
   "outputs": [],
   "source": [
    "# Compute mean first passage time -- an average timescale for a transition event to first occur\n",
    "\n",
    "mfpt = np.zeros((nstates, nstates))\n",
    "for i in range(nstates):\n",
    "    for j in range(nstates):\n",
    "        mfpt[i, j] = msm.mfpt(\n",
    "            msm.metastable_sets[i],\n",
    "            msm.metastable_sets[j])\n",
    "\n",
    "print('MFPT / steps:')\n",
    "pd.DataFrame(np.round(mfpt, decimals=1), index=range(1, nstates + 1), columns=range(1, nstates + 1))"
   ]
  },
  {
   "cell_type": "markdown",
   "id": "41f5a60e",
   "metadata": {},
   "source": [
    "***\n",
    "### Time evolution of RMSD with repsect to npt equilibrated structure"
   ]
  },
  {
   "cell_type": "code",
   "execution_count": null,
   "id": "68b18b9d",
   "metadata": {},
   "outputs": [],
   "source": [
    "npt = mdtraj.load(npt_path, top=top_path)\n",
    "trajs = mdtraj.load(trajs_path, top=top_path)\n",
    "trajs.superpose(reference=npt)\n",
    "rmsds = mdtraj.rmsd(target=trajs, reference=npt)*10"
   ]
  },
  {
   "cell_type": "code",
   "execution_count": null,
   "id": "2652dfc9",
   "metadata": {},
   "outputs": [],
   "source": [
    "with sns.plotting_context('paper',font_scale=1.5):\n",
    "    xlim = (0, len(rmsds))\n",
    "    ylim = (0, 14)\n",
    "    \n",
    "    fig = plt.figure(figsize=(10, 4))\n",
    "    gs = fig.add_gridspec(1, 2,  width_ratios=(8, 1),\n",
    "                      left=0.1, right=0.9, bottom=0.1, top=0.9,\n",
    "                      wspace=0.05, hspace=0.05)\n",
    "    \n",
    "    ax = fig.add_subplot(gs[0, 0])\n",
    "    ax_histx = fig.add_subplot(gs[0, 1], sharey=ax)\n",
    "    \n",
    "    ax.plot(rmsds, lw=0.4, label='RMSD')\n",
    "    \n",
    "    binwidth = 0.5\n",
    "    bins = np.arange(*ylim, binwidth)\n",
    "    \n",
    "    ax_histx.hist(rmsds,orientation=\"horizontal\",bins=bins)\n",
    "    ax_histx.tick_params(axis=\"y\", labelleft=False)\n",
    "    \n",
    "    for i in range(0, len(rmsds), 25001):\n",
    "        ax.axvline(i, ls='--', lw=1.5, c='gray', alpha=0.8)\n",
    "\n",
    "    ax.set_xlim(*xlim)\n",
    "    ax.set_ylim(*ylim)\n",
    "    ax_histx.set_xlim(*xlim)\n",
    "    ax_histx.set_ylim(*ylim)\n",
    "    \n",
    "    ax_histx.set_xticks([0,len(rmsds)/2,len(rmsds)])\n",
    "    ax_histx.set_xticklabels([0,0.5,1])\n",
    "    \n",
    "    ax.legend()\n",
    "    ax.set_xlabel('Frame')\n",
    "    ax.set_ylabel('RMSD (Å)')\n",
    "    plt.savefig(os.path.join(fig_path, 'time_RMSD.png'))"
   ]
  },
  {
   "cell_type": "markdown",
   "id": "f30ee3e6",
   "metadata": {},
   "source": [
    "***\n",
    "### Stationary distribution, free energy, and metastable assignment"
   ]
  },
  {
   "cell_type": "code",
   "execution_count": null,
   "id": "503af6c2",
   "metadata": {},
   "outputs": [],
   "source": [
    "feat_t = pyemma.coordinates.featurizer(top_path)\n",
    "feat_t.active_features = []\n",
    "feat_t.add_sidechain_torsions(periodic = False)\n",
    "feat_t.add_distances_ca(periodic = False)\n",
    "\n",
    "af = pyemma.coordinates.load(af_path, features=feat_t)\n",
    "test_dic = {'alphafold': [af]}\n",
    "\n",
    "#0 original features #1 tica features #2 microstate #3 metastable states\n",
    "for name, obj_list in test_dic.items():\n",
    "    ff = tica.transform(obj_list[0])\n",
    "    microstate = cluster.assign(ff)\n",
    "    metastate = msm.metastable_assignments[microstate]\n",
    "    test_dic[name].extend([ff, microstate, metastate])"
   ]
  },
  {
   "cell_type": "code",
   "execution_count": null,
   "id": "d0ade5ec",
   "metadata": {},
   "outputs": [],
   "source": [
    "# !Use uniform scale!\n",
    "\n",
    "metastable_traj = msm.metastable_assignments[dtrajs_concatenated]\n",
    "\n",
    "fig, axes = plt.subplots(1, 3, figsize=(16, 5), sharex=True, sharey=True)\n",
    "    \n",
    "pyemma.plots.plot_contour(\n",
    "    *tica_concatenated[:, :2].T,\n",
    "    msm.pi[dtrajs_concatenated],\n",
    "    ax=axes[0],\n",
    "    mask=True,\n",
    "    cbar_label='stationary distribution')\n",
    "axes[0].scatter(*cluster.clustercenters[:,:2].T, s=2, c='pink')\n",
    "\n",
    "pyemma.plots.plot_free_energy(\n",
    "    *tica_concatenated[:, :2].T,\n",
    "    weights=np.concatenate(msm.trajectory_weights()),\n",
    "    ax=axes[1],\n",
    "    legacy=False)\n",
    "axes[1].scatter(*cluster.clustercenters[:,:2].T, s=2, c='k')\n",
    "\n",
    "_, _, misc = pyemma.plots.plot_state_map(*tica_concatenated[:, :2].T, metastable_traj, ax=axes[2], cmap = 'cool')\n",
    "axes[2].scatter(*cluster.clustercenters[:,:2].T, s=2, c='k')\n",
    "misc['cbar'].set_ticklabels([r'$\\mathcal{S}_%d$' % (i + 1) for i in range(nstates)])\n",
    "for i, (name, conf_list) in enumerate(test_dic.items()):\n",
    "    x, y = conf_list[1][:, 0],conf_list[1][:, 1]\n",
    "    print('Position of {}: {}, {}'.format(name, *x,*y))\n",
    "    axes[2].scatter(x,y,s = 150, c = 'purple',  marker = 'v') \n",
    "\n",
    "fig.supxlabel('IC 1')\n",
    "fig.supylabel('IC 2')\n",
    "axes[0].set_title('Stationary distribution')\n",
    "axes[1].set_title('Weighted free energy surface')\n",
    "axes[2].set_title('State assignment')\n",
    "fig.tight_layout()\n",
    "\n",
    "plt.savefig(fname=os.path.join(fig_path, 'state_assignment.png'))"
   ]
  },
  {
   "cell_type": "code",
   "execution_count": null,
   "id": "177fc334",
   "metadata": {},
   "outputs": [],
   "source": [
    "core_membership_cutoff = 0.9\n",
    "dists = msm.metastable_distributions.copy()\n",
    "dists[msm.metastable_memberships.T<core_membership_cutoff] = 0\n",
    "dists = dists/np.sum(dists, axis=1)[:, np.newaxis]\n",
    "eigvec = msm.eigenvectors_right()\n",
    "max_eig = eigvec[:,1].argmax()\n",
    "min_eig = eigvec[:,1].argmin()"
   ]
  },
  {
   "cell_type": "code",
   "execution_count": null,
   "id": "290e07df",
   "metadata": {},
   "outputs": [],
   "source": [
    "with sns.plotting_context('paper',font_scale=1.5): \n",
    "    fig, axes =  plt.subplots(1,2, figsize = (12,5), sharex=True, sharey=True)\n",
    "    for i_set, ax in enumerate(axes.flat):\n",
    "        _, _, misc = pyemma.plots.plot_free_energy(*tica_concatenated[:, :2].T, weights=np.concatenate(msm.trajectory_weights()),\n",
    "            ax=ax, legacy=False, cmap='viridis', alpha=0.5)\n",
    "        ax.scatter(*cluster.clustercenters[:,:2].T, c=dists[i_set], cmap='Greys', s=15, \n",
    "                   vmin=dists[i_set].min(), vmax=dists[i_set].max(), alpha=0.8)\n",
    "        ax.scatter(*cluster.clustercenters[[min_eig,max_eig][i_set],:2].T, color='r', marker='*', s=200 )\n",
    "        ax.set_title(f'State {i_set+1}')\n",
    "        misc['cbar'].ax.tick_params(labelsize=14)\n",
    "        misc['cbar'].set_label(label='free energy / KT')\n",
    "        ax.tick_params(bottom=True, top=False, left=True, right=False)\n",
    "        ax.set_aspect('equal')\n",
    "    fig.supxlabel('IC 1')\n",
    "    fig.supylabel('IC 2')\n",
    "    plt.tight_layout()\n",
    "\n",
    "    plt.savefig(fname=os.path.join(fig_path, 'SI.png'))"
   ]
  },
  {
   "cell_type": "code",
   "execution_count": null,
   "id": "fde1a4cf",
   "metadata": {},
   "outputs": [],
   "source": [
    "with sns.plotting_context('paper', font_scale=2):\n",
    "    fig, axes = plt.subplots(2, sharex=True, sharey=True, figsize=(8, 12))\n",
    "\n",
    "    for i_ev, ax in enumerate(axes): \n",
    "        vmin = np.min(msm.eigenvectors_right()[:, i_ev+1]) \n",
    "        vmax = np.max(msm.eigenvectors_right()[:, i_ev+1]) \n",
    "        divnorm=colors.TwoSlopeNorm(vmin=vmin, vcenter=0., vmax=vmax)\n",
    "\n",
    "        if tica_concatenated.shape[1]==1:\n",
    "            pyemma.plots.plot_feature_histograms(tica_concatenated, ax=ax)\n",
    "            x = kmeans_mod.clustercenters[:, 0]\n",
    "            y = np.repeat(0,kmeans_mod.clustercenters.shape[0])\n",
    "        else:\n",
    "            pyemma.plots.plot_free_energy(tica_concatenated[:, 0], tica_concatenated[:, 1], ax=ax, cmap='viridis', alpha=0.5, weights=np.concatenate(msm.trajectory_weights()))\n",
    "            x = cluster.clustercenters[:, 0]\n",
    "            y = cluster.clustercenters[:, 1]    \n",
    "        \n",
    "        ax.tick_params(bottom=True, top=False, left=True, right=False)\n",
    "        ax.set_title(f'eigenvector {i_ev+2}')\n",
    "        ax.scatter(x=x, y=y, c=msm.eigenvectors_right()[:, i_ev+1], cmap='bwr',norm=divnorm, s=50)\n",
    "    fig.supxlabel('IC1')\n",
    "    fig.supylabel('IC2')\n",
    "    plt.tight_layout()\n",
    "    \n",
    "    plt.savefig(fname=os.path.join(fig_path, 'eigenvector.png'))"
   ]
  },
  {
   "cell_type": "markdown",
   "id": "f0811c1d",
   "metadata": {},
   "source": [
    "***\n",
    "### Sample metastates centres"
   ]
  },
  {
   "cell_type": "code",
   "execution_count": null,
   "id": "f573651f",
   "metadata": {},
   "outputs": [],
   "source": [
    "n_sample = 20\n",
    "n_process = 2\n",
    "sample_path = r'./sample/'\n",
    "if not os.path.exists(sample_path): os.mkdir(sample_path)"
   ]
  },
  {
   "cell_type": "code",
   "execution_count": null,
   "id": "1274d077",
   "metadata": {},
   "outputs": [],
   "source": [
    "smpl_dic = {}\n",
    "eigvec = msm.eigenvectors_right()\n",
    "\n",
    "for i in range(n_process):\n",
    "    max_eig = eigvec[:,i+1].argmax()\n",
    "    min_eig = eigvec[:,i+1].argmin()\n",
    "    med_eig = np.argsort(eigvec[:,i])[len(eigvec[:,i])//2]\n",
    "    \n",
    "    smpl_dic['eig{}_max'.format(i+2)] = max_eig\n",
    "    smpl_dic['eig{}_min'.format(i+2)] = min_eig\n",
    "    smpl_dic['eig{}_med'.format(i+2)] = med_eig"
   ]
  },
  {
   "cell_type": "code",
   "execution_count": null,
   "id": "df55357f",
   "metadata": {},
   "outputs": [],
   "source": [
    "for name, state in smpl_dic.items():\n",
    "    path = os.path.join(sample_path, '{}_{}structures.pdb'.format(name,n_sample))\n",
    "    path_aligned = os.path.join(sample_path, '{}_{}structures_aligned.pdb'.format(name,n_sample))\n",
    "    \n",
    "    # Generate samples for each state \n",
    "    samples = msm.sample_by_state(n_sample, subset=[state])\n",
    "    samples_extreme = pyemma.coordinates.save_trajs(reader, samples, outfiles=[path])\n",
    "    \n",
    "    # Align samples\n",
    "    # Compare RMSD within states\n",
    "    uni = mda.Universe(top_path, path, dt = 40)\n",
    "    matrix = diffusionmap.DistanceMatrix(uni, select='name CA').run()\n",
    "    aligner = align.AlignTraj(uni, uni, select='name CA', filename=path_aligned).run()\n",
    "    \n",
    "    uni_aligned = mda.Universe(top_path, path_aligned, dt = 40)\n",
    "    matrix_aligned = diffusionmap.DistanceMatrix(uni_aligned, select='name CA').run()\n",
    "    print('Averaged pairwise RMSD of {} structures before [{}({})] and after [{}({})] alignment'.format(name, matrix.dist_matrix.mean(), matrix.dist_matrix.std(), matrix_aligned.dist_matrix.mean(),matrix_aligned.dist_matrix.std()))\n",
    "\n",
    "# Compute RMSD between extreme states\n",
    "for i in range(n_process):\n",
    "    max_traj = mda.Universe(top_path,f'./sample/eig{i+2}_max_{n_sample}structures_aligned.pdb', dt = 40)\n",
    "    min_traj = mda.Universe(top_path,f'./sample/eig{i+2}_min_{n_sample}structures_aligned.pdb', dt = 40)\n",
    "    prmsd = np.zeros((n_sample, n_sample))\n",
    "    for j, frame_max in enumerate(max_traj.trajectory):\n",
    "        r = rms.RMSD(min_traj, max_traj, select='name CA', ref_frame=j).run()\n",
    "        prmsd[i] = r.rmsd[:, -1]\n",
    "    print('Averaged RMSD between eig{} max and min structures: {}({})'.format(i+2, prmsd.mean(), prmsd.std()))"
   ]
  },
  {
   "cell_type": "markdown",
   "id": "b296b810",
   "metadata": {},
   "source": [
    "***\n",
    "### Compute Rg and SASA"
   ]
  },
  {
   "cell_type": "code",
   "execution_count": null,
   "id": "468c12d6",
   "metadata": {},
   "outputs": [],
   "source": [
    "bayesian_msm.pcca(2)\n",
    "\n",
    "# Generate 100 sample for each metastable membership distribution\n",
    "sample_by_metastable_distributions = bayesian_msm.sample_by_distributions(bayesian_msm.metastable_distributions, 100)\n",
    "print('Sample for {} metastable states'.format(len(sample_by_metastable_distributions)))\n",
    "\n",
    "# Generate 10 samples for each microstate\n",
    "sample_by_microstate = [smpl for smpl in bayesian_msm.sample_by_state(20)]\n",
    "print('Sample for {} states'.format(len(sample_by_microstate)))\n",
    "\n",
    "# Save generated molecular structures in trajectories\n",
    "metastable_samples = [pyemma.coordinates.save_traj(reader, smpl, outfile=None, top=top_path) for smpl in sample_by_metastable_distributions]\n",
    "microstate_samples = [pyemma.coordinates.save_traj(reader, smpl, outfile=None, top=top_path) for smpl in sample_by_microstate]\n",
    "\n",
    "# Compute both observables\n",
    "metastable_rg_all = [compute_rg(sample) for sample in metastable_samples]\n",
    "metastable_sasa_all = [np.sum(shrake_rupley(sample, mode='residue'), axis = 1) for sample in metastable_samples]\n",
    "markov_average_rg = [compute_rg(sample).mean() for sample in microstate_samples]\n",
    "markov_average_sasa = [shrake_rupley(sample, mode='residue').sum(axis = 1).mean() for sample in microstate_samples]\n",
    "\n",
    "# Weigh both observables over msm\n",
    "equilibrium_rg = bayesian_msm.expectation(markov_average_rg)\n",
    "equilibrium_sasa = bayesian_msm.expectation(markov_average_sasa)\n",
    "equilibrium_std_rg = bayesian_msm.sample_std('expectation', markov_average_rg)\n",
    "equilibrium_std_sasa = bayesian_msm.sample_std('expectation', markov_average_sasa)\n",
    "\n",
    "# Compute mean and std gyration and sasa for each set of representative structures\n",
    "metastable_average_rg, metastable_std_rg = np.array(metastable_rg_all).mean(axis=1), np.array(metastable_rg_all).std(axis=1)\n",
    "metastable_average_sasa, metastable_std_sasa = np.array(metastable_sasa_all).mean(axis=1), np.array(metastable_sasa_all).std(axis=1)\n",
    "\n",
    "dataframe_dict = {'metastable_state': [1,2, 'equilibrium'], \n",
    "                  'mean_rg' : np.append(metastable_average_rg,equilibrium_rg), \n",
    "                  'std_rg' : np.append(metastable_std_rg, equilibrium_std_rg),\n",
    "                  'mean_sasa' : np.append(metastable_average_sasa, equilibrium_sasa), \n",
    "                  'std_sasa': np.append(metastable_std_sasa, equilibrium_std_sasa)}\n",
    "\n",
    "results = pd.DataFrame(dataframe_dict).set_index('metastable_state')\n",
    "results.to_csv(os.path.join(fig_path, 'observables.csv'), index = False)\n",
    "results"
   ]
  }
 ],
 "metadata": {
  "kernelspec": {
   "display_name": "Python 3 (ipykernel)",
   "language": "python",
   "name": "python3"
  },
  "language_info": {
   "codemirror_mode": {
    "name": "ipython",
    "version": 3
   },
   "file_extension": ".py",
   "mimetype": "text/x-python",
   "name": "python",
   "nbconvert_exporter": "python",
   "pygments_lexer": "ipython3",
   "version": "3.9.13"
  }
 },
 "nbformat": 4,
 "nbformat_minor": 5
}
